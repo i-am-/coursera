{
 "cells": [
  {
   "cell_type": "markdown",
   "metadata": {},
   "source": [
    "Assignment 1: ANOVA post hoc test comparison\n",
    "==="
   ]
  },
  {
   "cell_type": "markdown",
   "metadata": {},
   "source": [
    "In this assignment we analyse GapMinder dataset (included within the course) in order to find significant differences between countries of various income groups vs. average alcohol consumption per capita\n",
    "\n",
    "Income groups segmentation is taken from World Bank Excel file [Atlas methodology by World Bank, 2014 calendar year](http://siteresources.worldbank.org/DATASTATISTICS/Resources/OGHIST.xls)\n",
    "* _Low income (L)_ <= 1,045 GNI per capita in US$\n",
    "* _Lower middle income (LM)_ 1,046-4,125\n",
    "* _Upper middle income (UM)_ 4,126-12,735\n",
    "* _High income (H)_ > 12,735\n",
    "\n",
    "GapMinder country names are different from World Bank's, so not all the GapMinder countries could be tagged with income group lable (unlabled countries would not be analyzed)"
   ]
  },
  {
   "cell_type": "code",
   "execution_count": 1,
   "metadata": {
    "collapsed": true
   },
   "outputs": [],
   "source": [
    "import numpy as np\n",
    "import pandas as pd\n",
    "import matplotlib.pyplot as plt\n",
    "%matplotlib inline\n",
    "import seaborn\n",
    "import statsmodels.formula.api as sm\n",
    "from statsmodels.stats.multicomp import pairwise_tukeyhsd"
   ]
  },
  {
   "cell_type": "markdown",
   "metadata": {},
   "source": [
    "Prapare datasets:\n",
    "1. Load initial datasets\n",
    "+ Convert to numeric\n",
    "+ Merge/join both datasets\n",
    "+ Drop lines without _income group_ or _alcohol consumption_ data available"
   ]
  },
  {
   "cell_type": "code",
   "execution_count": 2,
   "metadata": {
    "collapsed": false
   },
   "outputs": [],
   "source": [
    "df=pd.read_csv('../datasets/gapminder.csv',index_col='country')\n",
    "df = df.apply(pd.to_numeric, errors='coerse')\n",
    "c_gr=pd.read_csv('../datasets/country_groups.csv',index_col='country')\n",
    "c_gr['incomegroup'] = c_gr['incomegroup'].astype('category')\n",
    "countries = df.join(c_gr)\n",
    "countries=countries.dropna(subset=['incomegroup','alcconsumption'])"
   ]
  },
  {
   "cell_type": "markdown",
   "metadata": {},
   "source": [
    "Analysis of means\n",
    "---"
   ]
  },
  {
   "cell_type": "code",
   "execution_count": 3,
   "metadata": {
    "collapsed": false
   },
   "outputs": [
    {
     "data": {
      "text/html": [
       "<div>\n",
       "<table border=\"1\" class=\"dataframe\">\n",
       "  <thead>\n",
       "    <tr style=\"text-align: right;\">\n",
       "      <th></th>\n",
       "      <th>mean</th>\n",
       "      <th>std</th>\n",
       "    </tr>\n",
       "    <tr>\n",
       "      <th>incomegroup</th>\n",
       "      <th></th>\n",
       "      <th></th>\n",
       "    </tr>\n",
       "  </thead>\n",
       "  <tbody>\n",
       "    <tr>\n",
       "      <th>H</th>\n",
       "      <td>9.609310</td>\n",
       "      <td>4.833306</td>\n",
       "    </tr>\n",
       "    <tr>\n",
       "      <th>L</th>\n",
       "      <td>4.134828</td>\n",
       "      <td>3.741997</td>\n",
       "    </tr>\n",
       "    <tr>\n",
       "      <th>LM</th>\n",
       "      <td>4.565714</td>\n",
       "      <td>4.530318</td>\n",
       "    </tr>\n",
       "    <tr>\n",
       "      <th>UM</th>\n",
       "      <td>6.942083</td>\n",
       "      <td>4.199979</td>\n",
       "    </tr>\n",
       "  </tbody>\n",
       "</table>\n",
       "</div>"
      ],
      "text/plain": [
       "                 mean       std\n",
       "incomegroup                    \n",
       "H            9.609310  4.833306\n",
       "L            4.134828  3.741997\n",
       "LM           4.565714  4.530318\n",
       "UM           6.942083  4.199979"
      ]
     },
     "execution_count": 3,
     "metadata": {},
     "output_type": "execute_result"
    }
   ],
   "source": [
    "grouped = countries.groupby('incomegroup')\n",
    "grouped['alcconsumption'].agg([np.mean, np.std])"
   ]
  },
  {
   "cell_type": "markdown",
   "metadata": {},
   "source": [
    "ANOVA analysis\n",
    "---"
   ]
  },
  {
   "cell_type": "code",
   "execution_count": 4,
   "metadata": {
    "collapsed": false
   },
   "outputs": [
    {
     "data": {
      "text/html": [
       "<table class=\"simpletable\">\n",
       "<caption>OLS Regression Results</caption>\n",
       "<tr>\n",
       "  <th>Dep. Variable:</th>     <td>alcconsumption</td>  <th>  R-squared:         </th> <td>   0.204</td>\n",
       "</tr>\n",
       "<tr>\n",
       "  <th>Model:</th>                   <td>OLS</td>       <th>  Adj. R-squared:    </th> <td>   0.191</td>\n",
       "</tr>\n",
       "<tr>\n",
       "  <th>Method:</th>             <td>Least Squares</td>  <th>  F-statistic:       </th> <td>   15.39</td>\n",
       "</tr>\n",
       "<tr>\n",
       "  <th>Date:</th>             <td>Wed, 30 Mar 2016</td> <th>  Prob (F-statistic):</th> <td>5.87e-09</td>\n",
       "</tr>\n",
       "<tr>\n",
       "  <th>Time:</th>                 <td>00:35:30</td>     <th>  Log-Likelihood:    </th> <td> -533.07</td>\n",
       "</tr>\n",
       "<tr>\n",
       "  <th>No. Observations:</th>      <td>   184</td>      <th>  AIC:               </th> <td>   1074.</td>\n",
       "</tr>\n",
       "<tr>\n",
       "  <th>Df Residuals:</th>          <td>   180</td>      <th>  BIC:               </th> <td>   1087.</td>\n",
       "</tr>\n",
       "<tr>\n",
       "  <th>Df Model:</th>              <td>     3</td>      <th>                     </th>     <td> </td>   \n",
       "</tr>\n",
       "<tr>\n",
       "  <th>Covariance Type:</th>      <td>nonrobust</td>    <th>                     </th>     <td> </td>   \n",
       "</tr>\n",
       "</table>\n",
       "<table class=\"simpletable\">\n",
       "<tr>\n",
       "            <td></td>              <th>coef</th>     <th>std err</th>      <th>t</th>      <th>P>|t|</th> <th>[95.0% Conf. Int.]</th> \n",
       "</tr>\n",
       "<tr>\n",
       "  <th>Intercept</th>            <td>    9.6093</td> <td>    0.582</td> <td>   16.507</td> <td> 0.000</td> <td>    8.461    10.758</td>\n",
       "</tr>\n",
       "<tr>\n",
       "  <th>C(incomegroup)[T.L]</th>  <td>   -5.4745</td> <td>    1.008</td> <td>   -5.430</td> <td> 0.000</td> <td>   -7.464    -3.485</td>\n",
       "</tr>\n",
       "<tr>\n",
       "  <th>C(incomegroup)[T.LM]</th> <td>   -5.0436</td> <td>    0.860</td> <td>   -5.863</td> <td> 0.000</td> <td>   -6.741    -3.346</td>\n",
       "</tr>\n",
       "<tr>\n",
       "  <th>C(incomegroup)[T.UM]</th> <td>   -2.6672</td> <td>    0.865</td> <td>   -3.083</td> <td> 0.002</td> <td>   -4.374    -0.960</td>\n",
       "</tr>\n",
       "</table>\n",
       "<table class=\"simpletable\">\n",
       "<tr>\n",
       "  <th>Omnibus:</th>       <td>20.211</td> <th>  Durbin-Watson:     </th> <td>   2.052</td>\n",
       "</tr>\n",
       "<tr>\n",
       "  <th>Prob(Omnibus):</th> <td> 0.000</td> <th>  Jarque-Bera (JB):  </th> <td>  29.652</td>\n",
       "</tr>\n",
       "<tr>\n",
       "  <th>Skew:</th>          <td> 0.641</td> <th>  Prob(JB):          </th> <td>3.64e-07</td>\n",
       "</tr>\n",
       "<tr>\n",
       "  <th>Kurtosis:</th>      <td> 4.492</td> <th>  Cond. No.          </th> <td>    4.41</td>\n",
       "</tr>\n",
       "</table>"
      ],
      "text/plain": [
       "<class 'statsmodels.iolib.summary.Summary'>\n",
       "\"\"\"\n",
       "                            OLS Regression Results                            \n",
       "==============================================================================\n",
       "Dep. Variable:         alcconsumption   R-squared:                       0.204\n",
       "Model:                            OLS   Adj. R-squared:                  0.191\n",
       "Method:                 Least Squares   F-statistic:                     15.39\n",
       "Date:                Wed, 30 Mar 2016   Prob (F-statistic):           5.87e-09\n",
       "Time:                        00:35:30   Log-Likelihood:                -533.07\n",
       "No. Observations:                 184   AIC:                             1074.\n",
       "Df Residuals:                     180   BIC:                             1087.\n",
       "Df Model:                           3                                         \n",
       "Covariance Type:            nonrobust                                         \n",
       "========================================================================================\n",
       "                           coef    std err          t      P>|t|      [95.0% Conf. Int.]\n",
       "----------------------------------------------------------------------------------------\n",
       "Intercept                9.6093      0.582     16.507      0.000         8.461    10.758\n",
       "C(incomegroup)[T.L]     -5.4745      1.008     -5.430      0.000        -7.464    -3.485\n",
       "C(incomegroup)[T.LM]    -5.0436      0.860     -5.863      0.000        -6.741    -3.346\n",
       "C(incomegroup)[T.UM]    -2.6672      0.865     -3.083      0.002        -4.374    -0.960\n",
       "==============================================================================\n",
       "Omnibus:                       20.211   Durbin-Watson:                   2.052\n",
       "Prob(Omnibus):                  0.000   Jarque-Bera (JB):               29.652\n",
       "Skew:                           0.641   Prob(JB):                     3.64e-07\n",
       "Kurtosis:                       4.492   Cond. No.                         4.41\n",
       "==============================================================================\n",
       "\n",
       "Warnings:\n",
       "[1] Standard Errors assume that the covariance matrix of the errors is correctly specified.\n",
       "\"\"\""
      ]
     },
     "execution_count": 4,
     "metadata": {},
     "output_type": "execute_result"
    }
   ],
   "source": [
    "lm = sm.ols(formula='alcconsumption ~ C(incomegroup)', data=countries)\n",
    "fit = lm.fit()\n",
    "fit.summary()"
   ]
  },
  {
   "cell_type": "markdown",
   "metadata": {},
   "source": [
    "ANOVA analysis shows that p-value (Prob (F-statistic):\t5.87e-09) is well below threshhold level of 0.05 so null-hypothesys could be rejected, i.e. mean alcohol consumption level is different between groups"
   ]
  },
  {
   "cell_type": "markdown",
   "metadata": {},
   "source": [
    "Perform actual post hoc test\n",
    "---"
   ]
  },
  {
   "cell_type": "code",
   "execution_count": 5,
   "metadata": {
    "collapsed": false
   },
   "outputs": [],
   "source": [
    "tukey = pairwise_tukeyhsd(countries['alcconsumption'],countries['incomegroup'], alpha=0.05)"
   ]
  },
  {
   "cell_type": "code",
   "execution_count": 8,
   "metadata": {
    "collapsed": false
   },
   "outputs": [
    {
     "data": {
      "text/html": [
       "<table class=\"simpletable\">\n",
       "<caption>Multiple Comparison of Means - Tukey HSD,FWER=0.05</caption>\n",
       "<tr>\n",
       "  <th>group1</th> <th>group2</th> <th>meandiff</th>  <th>lower</th>   <th>upper</th>  <th>reject</th>\n",
       "</tr>\n",
       "<tr>\n",
       "     <td>H</td>      <td>L</td>    <td>-5.4745</td> <td>-8.0893</td> <td>-2.8597</td>  <td>True</td> \n",
       "</tr>\n",
       "<tr>\n",
       "     <td>H</td>     <td>LM</td>    <td>-5.0436</td> <td>-7.2745</td> <td>-2.8127</td>  <td>True</td> \n",
       "</tr>\n",
       "<tr>\n",
       "     <td>H</td>     <td>UM</td>    <td>-2.6672</td> <td>-4.9107</td> <td>-0.4238</td>  <td>True</td> \n",
       "</tr>\n",
       "<tr>\n",
       "     <td>L</td>     <td>LM</td>    <td>0.4309</td>  <td>-2.2628</td> <td>3.1245</td>   <td>False</td>\n",
       "</tr>\n",
       "<tr>\n",
       "     <td>L</td>     <td>UM</td>    <td>2.8073</td>  <td>0.1032</td>  <td>5.5113</td>   <td>True</td> \n",
       "</tr>\n",
       "<tr>\n",
       "    <td>LM</td>     <td>UM</td>    <td>2.3764</td>  <td>0.0415</td>  <td>4.7112</td>   <td>True</td> \n",
       "</tr>\n",
       "</table>"
      ],
      "text/plain": [
       "<class 'statsmodels.iolib.table.SimpleTable'>"
      ]
     },
     "execution_count": 8,
     "metadata": {},
     "output_type": "execute_result"
    }
   ],
   "source": [
    "tukey.summary()"
   ]
  },
  {
   "cell_type": "markdown",
   "metadata": {},
   "source": [
    "Interpretation:\n",
    "---\n",
    "Alcohol consumption is statistically different in between income groups, except for _Lower income_ and _Lower Middle income_ pair"
   ]
  },
  {
   "cell_type": "code",
   "execution_count": 9,
   "metadata": {
    "collapsed": false
   },
   "outputs": [
    {
     "data": {
      "image/png": "[encoded data removed]",
      "text/plain": [
       "<matplotlib.figure.Figure at 0x7f3aed4a7150>"
      ]
     },
     "metadata": {},
     "output_type": "display_data"
    }
   ],
   "source": [
    "fig = tukey.plot_simultaneous(comparison_name='H')"
   ]
  },
  {
   "cell_type": "code",
   "execution_count": null,
   "metadata": {
    "collapsed": true
   },
   "outputs": [],
   "source": []
  }
 ],
 "metadata": {
  "kernelspec": {
   "display_name": "Python 2",
   "language": "python",
   "name": "python2"
  },
  "language_info": {
   "codemirror_mode": {
    "name": "ipython",
    "version": 2
   },
   "file_extension": ".py",
   "mimetype": "text/x-python",
   "name": "python",
   "nbconvert_exporter": "python",
   "pygments_lexer": "ipython2",
   "version": "2.7.11"
  }
 },
 "nbformat": 4,
 "nbformat_minor": 0
}
